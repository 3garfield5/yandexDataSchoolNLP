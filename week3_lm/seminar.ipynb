{
  "cells": [
    {
      "cell_type": "markdown",
      "metadata": {
        "cellId": "k1gpzj4guo8e1riwj3om1k",
        "id": "VVwrY3gvSpqh"
      },
      "source": [
        "### N-gram language models or how to write scientific papers (4 pts)\n",
        "\n",
        "We shall train our language model on a corpora of [ArXiv](http://arxiv.org/) articles and see if we can generate a new one!\n",
        "\n",
        "![img](https://media.npr.org/assets/img/2013/12/10/istock-18586699-monkey-computer_brick-16e5064d3378a14e0e4c2da08857efe03c04695e-s800-c85.jpg)\n",
        "\n",
        "_data by neelshah18 from [here](https://www.kaggle.com/neelshah18/arxivdataset/)_\n",
        "\n",
        "_Disclaimer: this has nothing to do with actual science. But it's fun, so who cares?!_"
      ]
    },
    {
      "cell_type": "code",
      "execution_count": null,
      "metadata": {
        "cellId": "u8jdaiy68oib3jvr4k01",
        "id": "mGf9TaNbSpqi"
      },
      "outputs": [],
      "source": [
        "import numpy as np\n",
        "import pandas as pd\n",
        "import matplotlib.pyplot as plt\n",
        "import random\n",
        "%matplotlib inline"
      ]
    },
    {
      "cell_type": "code",
      "execution_count": null,
      "metadata": {
        "cellId": "0c76vnyl3zui9yhtkodgrlf",
        "colab": {
          "base_uri": "https://localhost:8080/",
          "height": 746
        },
        "id": "FGzoULkUSpqi",
        "outputId": "61865718-2aa5-4e01-f5d5-b0021d77acd9"
      },
      "outputs": [
        {
          "output_type": "stream",
          "name": "stdout",
          "text": [
            "--2025-07-14 11:25:27--  https://www.dropbox.com/s/99az9n1b57qkd9j/arxivData.json.tar.gz?dl=1\n",
            "Resolving www.dropbox.com (www.dropbox.com)... 162.125.3.18, 2620:100:6018:18::a27d:312\n",
            "Connecting to www.dropbox.com (www.dropbox.com)|162.125.3.18|:443... connected.\n",
            "HTTP request sent, awaiting response... 302 Found\n",
            "Location: https://www.dropbox.com/scl/fi/0mulrothty5o8i8ud9gz2/arxivData.json.tar.gz?rlkey=n759u5qx2xpxxglmrl390vwvk&dl=1 [following]\n",
            "--2025-07-14 11:25:28--  https://www.dropbox.com/scl/fi/0mulrothty5o8i8ud9gz2/arxivData.json.tar.gz?rlkey=n759u5qx2xpxxglmrl390vwvk&dl=1\n",
            "Reusing existing connection to www.dropbox.com:443.\n",
            "HTTP request sent, awaiting response... 302 Found\n",
            "Location: https://ucf5aa4d61098ce88e54ff915de7.dl.dropboxusercontent.com/cd/0/inline/Ctc4_jpm9vYiO8f43_Zd-ahFy0yUODiK1hJs__ifs3TrjIzRLkdcpeSHwSSRwoPvttv0Up4OkzEHYu7S1lDMAcdTne35ifzHgPp3fb_wC8vxafdETIK_h-VsLLH2UAo_aX4/file?dl=1# [following]\n",
            "--2025-07-14 11:25:28--  https://ucf5aa4d61098ce88e54ff915de7.dl.dropboxusercontent.com/cd/0/inline/Ctc4_jpm9vYiO8f43_Zd-ahFy0yUODiK1hJs__ifs3TrjIzRLkdcpeSHwSSRwoPvttv0Up4OkzEHYu7S1lDMAcdTne35ifzHgPp3fb_wC8vxafdETIK_h-VsLLH2UAo_aX4/file?dl=1\n",
            "Resolving ucf5aa4d61098ce88e54ff915de7.dl.dropboxusercontent.com (ucf5aa4d61098ce88e54ff915de7.dl.dropboxusercontent.com)... 162.125.3.15, 2620:100:6018:15::a27d:30f\n",
            "Connecting to ucf5aa4d61098ce88e54ff915de7.dl.dropboxusercontent.com (ucf5aa4d61098ce88e54ff915de7.dl.dropboxusercontent.com)|162.125.3.15|:443... connected.\n",
            "HTTP request sent, awaiting response... 302 Found\n",
            "Location: /cd/0/inline2/CtdcHQWQLQ6nMEB1ZM9cIyaouPsU2NIsarF3GOQ7Cj9gsBc0YRW20qtDBKomtzX9vB0bEvGry_q0aFRdKRXunwqy57P0PHNnxJDvZ3UUCI2Puagxv5cykgoiKmQhOYtiohVpUMGq9jvqJGcE2HoeVsG4uneIfTeDSP9Zy0jVVExRrtovt9JhWLxbBc7MXku7iNcmUpPW4Xdc0KTyGyl77I3kCv_3AUWR7dAE3GIvNMsnv80UphtbySRhX5GQLUNI8G3ZGq9-eRTPq7EbNiOVMr9zCTEU7DjjxE35zr3ejv0SCQYPxwRRE5qx3ww4qf3ekNuX2TgK3CVAxz9CByCS59ZjmmzJsPxktEQx60MPCkJJLQ/file?dl=1 [following]\n",
            "--2025-07-14 11:25:29--  https://ucf5aa4d61098ce88e54ff915de7.dl.dropboxusercontent.com/cd/0/inline2/CtdcHQWQLQ6nMEB1ZM9cIyaouPsU2NIsarF3GOQ7Cj9gsBc0YRW20qtDBKomtzX9vB0bEvGry_q0aFRdKRXunwqy57P0PHNnxJDvZ3UUCI2Puagxv5cykgoiKmQhOYtiohVpUMGq9jvqJGcE2HoeVsG4uneIfTeDSP9Zy0jVVExRrtovt9JhWLxbBc7MXku7iNcmUpPW4Xdc0KTyGyl77I3kCv_3AUWR7dAE3GIvNMsnv80UphtbySRhX5GQLUNI8G3ZGq9-eRTPq7EbNiOVMr9zCTEU7DjjxE35zr3ejv0SCQYPxwRRE5qx3ww4qf3ekNuX2TgK3CVAxz9CByCS59ZjmmzJsPxktEQx60MPCkJJLQ/file?dl=1\n",
            "Reusing existing connection to ucf5aa4d61098ce88e54ff915de7.dl.dropboxusercontent.com:443.\n",
            "HTTP request sent, awaiting response... 200 OK\n",
            "Length: 18933283 (18M) [application/binary]\n",
            "Saving to: ‘arxivData.json.tar.gz’\n",
            "\n",
            "arxivData.json.tar. 100%[===================>]  18.06M  86.4MB/s    in 0.2s    \n",
            "\n",
            "2025-07-14 11:25:29 (86.4 MB/s) - ‘arxivData.json.tar.gz’ saved [18933283/18933283]\n",
            "\n",
            "arxivData.json\n"
          ]
        },
        {
          "output_type": "execute_result",
          "data": {
            "text/plain": [
              "                                                  author  day            id  \\\n",
              "27246  [{'name': 'Gong Cheng'}, {'name': 'Junwei Han'...    1  1703.00121v1   \n",
              "16193  [{'name': 'Aditya Joshi'}, {'name': 'Pranav Go...   22  1610.07091v2   \n",
              "5956                    [{'name': 'Stefan Hummelsheim'}]   10   1401.2304v1   \n",
              "21455  [{'name': 'Ruggiero Lovreglio'}, {'name': 'Vic...   26  1802.09119v1   \n",
              "11842  [{'name': 'Shariq Iqbal'}, {'name': 'John Pear...   23  1702.07319v2   \n",
              "\n",
              "                                                    link  month  \\\n",
              "27246  [{'rel': 'related', 'href': 'http://dx.doi.org...      3   \n",
              "16193  [{'rel': 'alternate', 'href': 'http://arxiv.or...     10   \n",
              "5956   [{'rel': 'alternate', 'href': 'http://arxiv.or...      1   \n",
              "21455  [{'rel': 'alternate', 'href': 'http://arxiv.or...      2   \n",
              "11842  [{'rel': 'alternate', 'href': 'http://arxiv.or...      2   \n",
              "\n",
              "                                                 summary  \\\n",
              "27246  Remote sensing image scene classification play...   \n",
              "16193  Past work in computational sarcasm deals prima...   \n",
              "5956   The least absolute shrinkage and selection ope...   \n",
              "21455  Enhancing evacuee safety is a key factor in re...   \n",
              "11842  Despite increasing attention paid to the need ...   \n",
              "\n",
              "                                                     tag  \\\n",
              "27246  [{'term': 'cs.CV', 'scheme': 'http://arxiv.org...   \n",
              "16193  [{'term': 'cs.CL', 'scheme': 'http://arxiv.org...   \n",
              "5956   [{'term': 'stat.ML', 'scheme': 'http://arxiv.o...   \n",
              "21455  [{'term': 'cs.AI', 'scheme': 'http://arxiv.org...   \n",
              "11842  [{'term': 'q-bio.NC', 'scheme': 'http://arxiv....   \n",
              "\n",
              "                                                   title  year  \n",
              "27246  Remote Sensing Image Scene Classification: Ben...  2017  \n",
              "16193  Automatic Identification of Sarcasm Target: An...  2016  \n",
              "5956     Lasso and equivalent quadratic penalized models  2014  \n",
              "21455  Prototyping Virtual Reality Serious Games for ...  2018  \n",
              "11842  A Goal-Based Movement Model for Continuous Mul...  2017  "
            ],
            "text/html": [
              "\n",
              "  <div id=\"df-e4039a65-ddf3-41d4-86ec-3cfabe7b64dc\" class=\"colab-df-container\">\n",
              "    <div>\n",
              "<style scoped>\n",
              "    .dataframe tbody tr th:only-of-type {\n",
              "        vertical-align: middle;\n",
              "    }\n",
              "\n",
              "    .dataframe tbody tr th {\n",
              "        vertical-align: top;\n",
              "    }\n",
              "\n",
              "    .dataframe thead th {\n",
              "        text-align: right;\n",
              "    }\n",
              "</style>\n",
              "<table border=\"1\" class=\"dataframe\">\n",
              "  <thead>\n",
              "    <tr style=\"text-align: right;\">\n",
              "      <th></th>\n",
              "      <th>author</th>\n",
              "      <th>day</th>\n",
              "      <th>id</th>\n",
              "      <th>link</th>\n",
              "      <th>month</th>\n",
              "      <th>summary</th>\n",
              "      <th>tag</th>\n",
              "      <th>title</th>\n",
              "      <th>year</th>\n",
              "    </tr>\n",
              "  </thead>\n",
              "  <tbody>\n",
              "    <tr>\n",
              "      <th>27246</th>\n",
              "      <td>[{'name': 'Gong Cheng'}, {'name': 'Junwei Han'...</td>\n",
              "      <td>1</td>\n",
              "      <td>1703.00121v1</td>\n",
              "      <td>[{'rel': 'related', 'href': 'http://dx.doi.org...</td>\n",
              "      <td>3</td>\n",
              "      <td>Remote sensing image scene classification play...</td>\n",
              "      <td>[{'term': 'cs.CV', 'scheme': 'http://arxiv.org...</td>\n",
              "      <td>Remote Sensing Image Scene Classification: Ben...</td>\n",
              "      <td>2017</td>\n",
              "    </tr>\n",
              "    <tr>\n",
              "      <th>16193</th>\n",
              "      <td>[{'name': 'Aditya Joshi'}, {'name': 'Pranav Go...</td>\n",
              "      <td>22</td>\n",
              "      <td>1610.07091v2</td>\n",
              "      <td>[{'rel': 'alternate', 'href': 'http://arxiv.or...</td>\n",
              "      <td>10</td>\n",
              "      <td>Past work in computational sarcasm deals prima...</td>\n",
              "      <td>[{'term': 'cs.CL', 'scheme': 'http://arxiv.org...</td>\n",
              "      <td>Automatic Identification of Sarcasm Target: An...</td>\n",
              "      <td>2016</td>\n",
              "    </tr>\n",
              "    <tr>\n",
              "      <th>5956</th>\n",
              "      <td>[{'name': 'Stefan Hummelsheim'}]</td>\n",
              "      <td>10</td>\n",
              "      <td>1401.2304v1</td>\n",
              "      <td>[{'rel': 'alternate', 'href': 'http://arxiv.or...</td>\n",
              "      <td>1</td>\n",
              "      <td>The least absolute shrinkage and selection ope...</td>\n",
              "      <td>[{'term': 'stat.ML', 'scheme': 'http://arxiv.o...</td>\n",
              "      <td>Lasso and equivalent quadratic penalized models</td>\n",
              "      <td>2014</td>\n",
              "    </tr>\n",
              "    <tr>\n",
              "      <th>21455</th>\n",
              "      <td>[{'name': 'Ruggiero Lovreglio'}, {'name': 'Vic...</td>\n",
              "      <td>26</td>\n",
              "      <td>1802.09119v1</td>\n",
              "      <td>[{'rel': 'alternate', 'href': 'http://arxiv.or...</td>\n",
              "      <td>2</td>\n",
              "      <td>Enhancing evacuee safety is a key factor in re...</td>\n",
              "      <td>[{'term': 'cs.AI', 'scheme': 'http://arxiv.org...</td>\n",
              "      <td>Prototyping Virtual Reality Serious Games for ...</td>\n",
              "      <td>2018</td>\n",
              "    </tr>\n",
              "    <tr>\n",
              "      <th>11842</th>\n",
              "      <td>[{'name': 'Shariq Iqbal'}, {'name': 'John Pear...</td>\n",
              "      <td>23</td>\n",
              "      <td>1702.07319v2</td>\n",
              "      <td>[{'rel': 'alternate', 'href': 'http://arxiv.or...</td>\n",
              "      <td>2</td>\n",
              "      <td>Despite increasing attention paid to the need ...</td>\n",
              "      <td>[{'term': 'q-bio.NC', 'scheme': 'http://arxiv....</td>\n",
              "      <td>A Goal-Based Movement Model for Continuous Mul...</td>\n",
              "      <td>2017</td>\n",
              "    </tr>\n",
              "  </tbody>\n",
              "</table>\n",
              "</div>\n",
              "    <div class=\"colab-df-buttons\">\n",
              "\n",
              "  <div class=\"colab-df-container\">\n",
              "    <button class=\"colab-df-convert\" onclick=\"convertToInteractive('df-e4039a65-ddf3-41d4-86ec-3cfabe7b64dc')\"\n",
              "            title=\"Convert this dataframe to an interactive table.\"\n",
              "            style=\"display:none;\">\n",
              "\n",
              "  <svg xmlns=\"http://www.w3.org/2000/svg\" height=\"24px\" viewBox=\"0 -960 960 960\">\n",
              "    <path d=\"M120-120v-720h720v720H120Zm60-500h600v-160H180v160Zm220 220h160v-160H400v160Zm0 220h160v-160H400v160ZM180-400h160v-160H180v160Zm440 0h160v-160H620v160ZM180-180h160v-160H180v160Zm440 0h160v-160H620v160Z\"/>\n",
              "  </svg>\n",
              "    </button>\n",
              "\n",
              "  <style>\n",
              "    .colab-df-container {\n",
              "      display:flex;\n",
              "      gap: 12px;\n",
              "    }\n",
              "\n",
              "    .colab-df-convert {\n",
              "      background-color: #E8F0FE;\n",
              "      border: none;\n",
              "      border-radius: 50%;\n",
              "      cursor: pointer;\n",
              "      display: none;\n",
              "      fill: #1967D2;\n",
              "      height: 32px;\n",
              "      padding: 0 0 0 0;\n",
              "      width: 32px;\n",
              "    }\n",
              "\n",
              "    .colab-df-convert:hover {\n",
              "      background-color: #E2EBFA;\n",
              "      box-shadow: 0px 1px 2px rgba(60, 64, 67, 0.3), 0px 1px 3px 1px rgba(60, 64, 67, 0.15);\n",
              "      fill: #174EA6;\n",
              "    }\n",
              "\n",
              "    .colab-df-buttons div {\n",
              "      margin-bottom: 4px;\n",
              "    }\n",
              "\n",
              "    [theme=dark] .colab-df-convert {\n",
              "      background-color: #3B4455;\n",
              "      fill: #D2E3FC;\n",
              "    }\n",
              "\n",
              "    [theme=dark] .colab-df-convert:hover {\n",
              "      background-color: #434B5C;\n",
              "      box-shadow: 0px 1px 3px 1px rgba(0, 0, 0, 0.15);\n",
              "      filter: drop-shadow(0px 1px 2px rgba(0, 0, 0, 0.3));\n",
              "      fill: #FFFFFF;\n",
              "    }\n",
              "  </style>\n",
              "\n",
              "    <script>\n",
              "      const buttonEl =\n",
              "        document.querySelector('#df-e4039a65-ddf3-41d4-86ec-3cfabe7b64dc button.colab-df-convert');\n",
              "      buttonEl.style.display =\n",
              "        google.colab.kernel.accessAllowed ? 'block' : 'none';\n",
              "\n",
              "      async function convertToInteractive(key) {\n",
              "        const element = document.querySelector('#df-e4039a65-ddf3-41d4-86ec-3cfabe7b64dc');\n",
              "        const dataTable =\n",
              "          await google.colab.kernel.invokeFunction('convertToInteractive',\n",
              "                                                    [key], {});\n",
              "        if (!dataTable) return;\n",
              "\n",
              "        const docLinkHtml = 'Like what you see? Visit the ' +\n",
              "          '<a target=\"_blank\" href=https://colab.research.google.com/notebooks/data_table.ipynb>data table notebook</a>'\n",
              "          + ' to learn more about interactive tables.';\n",
              "        element.innerHTML = '';\n",
              "        dataTable['output_type'] = 'display_data';\n",
              "        await google.colab.output.renderOutput(dataTable, element);\n",
              "        const docLink = document.createElement('div');\n",
              "        docLink.innerHTML = docLinkHtml;\n",
              "        element.appendChild(docLink);\n",
              "      }\n",
              "    </script>\n",
              "  </div>\n",
              "\n",
              "\n",
              "    <div id=\"df-f385b027-5fc5-4568-aeb5-49973f742c08\">\n",
              "      <button class=\"colab-df-quickchart\" onclick=\"quickchart('df-f385b027-5fc5-4568-aeb5-49973f742c08')\"\n",
              "                title=\"Suggest charts\"\n",
              "                style=\"display:none;\">\n",
              "\n",
              "<svg xmlns=\"http://www.w3.org/2000/svg\" height=\"24px\"viewBox=\"0 0 24 24\"\n",
              "     width=\"24px\">\n",
              "    <g>\n",
              "        <path d=\"M19 3H5c-1.1 0-2 .9-2 2v14c0 1.1.9 2 2 2h14c1.1 0 2-.9 2-2V5c0-1.1-.9-2-2-2zM9 17H7v-7h2v7zm4 0h-2V7h2v10zm4 0h-2v-4h2v4z\"/>\n",
              "    </g>\n",
              "</svg>\n",
              "      </button>\n",
              "\n",
              "<style>\n",
              "  .colab-df-quickchart {\n",
              "      --bg-color: #E8F0FE;\n",
              "      --fill-color: #1967D2;\n",
              "      --hover-bg-color: #E2EBFA;\n",
              "      --hover-fill-color: #174EA6;\n",
              "      --disabled-fill-color: #AAA;\n",
              "      --disabled-bg-color: #DDD;\n",
              "  }\n",
              "\n",
              "  [theme=dark] .colab-df-quickchart {\n",
              "      --bg-color: #3B4455;\n",
              "      --fill-color: #D2E3FC;\n",
              "      --hover-bg-color: #434B5C;\n",
              "      --hover-fill-color: #FFFFFF;\n",
              "      --disabled-bg-color: #3B4455;\n",
              "      --disabled-fill-color: #666;\n",
              "  }\n",
              "\n",
              "  .colab-df-quickchart {\n",
              "    background-color: var(--bg-color);\n",
              "    border: none;\n",
              "    border-radius: 50%;\n",
              "    cursor: pointer;\n",
              "    display: none;\n",
              "    fill: var(--fill-color);\n",
              "    height: 32px;\n",
              "    padding: 0;\n",
              "    width: 32px;\n",
              "  }\n",
              "\n",
              "  .colab-df-quickchart:hover {\n",
              "    background-color: var(--hover-bg-color);\n",
              "    box-shadow: 0 1px 2px rgba(60, 64, 67, 0.3), 0 1px 3px 1px rgba(60, 64, 67, 0.15);\n",
              "    fill: var(--button-hover-fill-color);\n",
              "  }\n",
              "\n",
              "  .colab-df-quickchart-complete:disabled,\n",
              "  .colab-df-quickchart-complete:disabled:hover {\n",
              "    background-color: var(--disabled-bg-color);\n",
              "    fill: var(--disabled-fill-color);\n",
              "    box-shadow: none;\n",
              "  }\n",
              "\n",
              "  .colab-df-spinner {\n",
              "    border: 2px solid var(--fill-color);\n",
              "    border-color: transparent;\n",
              "    border-bottom-color: var(--fill-color);\n",
              "    animation:\n",
              "      spin 1s steps(1) infinite;\n",
              "  }\n",
              "\n",
              "  @keyframes spin {\n",
              "    0% {\n",
              "      border-color: transparent;\n",
              "      border-bottom-color: var(--fill-color);\n",
              "      border-left-color: var(--fill-color);\n",
              "    }\n",
              "    20% {\n",
              "      border-color: transparent;\n",
              "      border-left-color: var(--fill-color);\n",
              "      border-top-color: var(--fill-color);\n",
              "    }\n",
              "    30% {\n",
              "      border-color: transparent;\n",
              "      border-left-color: var(--fill-color);\n",
              "      border-top-color: var(--fill-color);\n",
              "      border-right-color: var(--fill-color);\n",
              "    }\n",
              "    40% {\n",
              "      border-color: transparent;\n",
              "      border-right-color: var(--fill-color);\n",
              "      border-top-color: var(--fill-color);\n",
              "    }\n",
              "    60% {\n",
              "      border-color: transparent;\n",
              "      border-right-color: var(--fill-color);\n",
              "    }\n",
              "    80% {\n",
              "      border-color: transparent;\n",
              "      border-right-color: var(--fill-color);\n",
              "      border-bottom-color: var(--fill-color);\n",
              "    }\n",
              "    90% {\n",
              "      border-color: transparent;\n",
              "      border-bottom-color: var(--fill-color);\n",
              "    }\n",
              "  }\n",
              "</style>\n",
              "\n",
              "      <script>\n",
              "        async function quickchart(key) {\n",
              "          const quickchartButtonEl =\n",
              "            document.querySelector('#' + key + ' button');\n",
              "          quickchartButtonEl.disabled = true;  // To prevent multiple clicks.\n",
              "          quickchartButtonEl.classList.add('colab-df-spinner');\n",
              "          try {\n",
              "            const charts = await google.colab.kernel.invokeFunction(\n",
              "                'suggestCharts', [key], {});\n",
              "          } catch (error) {\n",
              "            console.error('Error during call to suggestCharts:', error);\n",
              "          }\n",
              "          quickchartButtonEl.classList.remove('colab-df-spinner');\n",
              "          quickchartButtonEl.classList.add('colab-df-quickchart-complete');\n",
              "        }\n",
              "        (() => {\n",
              "          let quickchartButtonEl =\n",
              "            document.querySelector('#df-f385b027-5fc5-4568-aeb5-49973f742c08 button');\n",
              "          quickchartButtonEl.style.display =\n",
              "            google.colab.kernel.accessAllowed ? 'block' : 'none';\n",
              "        })();\n",
              "      </script>\n",
              "    </div>\n",
              "    </div>\n",
              "  </div>\n"
            ],
            "application/vnd.google.colaboratory.intrinsic+json": {
              "type": "dataframe",
              "summary": "{\n  \"name\": \"data\",\n  \"rows\": 5,\n  \"fields\": [\n    {\n      \"column\": \"author\",\n      \"properties\": {\n        \"dtype\": \"string\",\n        \"num_unique_values\": 5,\n        \"samples\": [\n          \"[{'name': 'Aditya Joshi'}, {'name': 'Pranav Goel'}, {'name': 'Pushpak Bhattacharyya'}, {'name': 'Mark Carman'}]\",\n          \"[{'name': 'Shariq Iqbal'}, {'name': 'John Pearson'}]\",\n          \"[{'name': 'Stefan Hummelsheim'}]\"\n        ],\n        \"semantic_type\": \"\",\n        \"description\": \"\"\n      }\n    },\n    {\n      \"column\": \"day\",\n      \"properties\": {\n        \"dtype\": \"number\",\n        \"std\": 10,\n        \"min\": 1,\n        \"max\": 26,\n        \"num_unique_values\": 5,\n        \"samples\": [\n          22,\n          23,\n          10\n        ],\n        \"semantic_type\": \"\",\n        \"description\": \"\"\n      }\n    },\n    {\n      \"column\": \"id\",\n      \"properties\": {\n        \"dtype\": \"string\",\n        \"num_unique_values\": 5,\n        \"samples\": [\n          \"1610.07091v2\",\n          \"1702.07319v2\",\n          \"1401.2304v1\"\n        ],\n        \"semantic_type\": \"\",\n        \"description\": \"\"\n      }\n    },\n    {\n      \"column\": \"link\",\n      \"properties\": {\n        \"dtype\": \"string\",\n        \"num_unique_values\": 5,\n        \"samples\": [\n          \"[{'rel': 'alternate', 'href': 'http://arxiv.org/abs/1610.07091v2', 'type': 'text/html'}, {'rel': 'related', 'href': 'http://arxiv.org/pdf/1610.07091v2', 'type': 'application/pdf', 'title': 'pdf'}]\",\n          \"[{'rel': 'alternate', 'href': 'http://arxiv.org/abs/1702.07319v2', 'type': 'text/html'}, {'rel': 'related', 'href': 'http://arxiv.org/pdf/1702.07319v2', 'type': 'application/pdf', 'title': 'pdf'}]\",\n          \"[{'rel': 'alternate', 'href': 'http://arxiv.org/abs/1401.2304v1', 'type': 'text/html'}, {'rel': 'related', 'href': 'http://arxiv.org/pdf/1401.2304v1', 'type': 'application/pdf', 'title': 'pdf'}]\"\n        ],\n        \"semantic_type\": \"\",\n        \"description\": \"\"\n      }\n    },\n    {\n      \"column\": \"month\",\n      \"properties\": {\n        \"dtype\": \"number\",\n        \"std\": 3,\n        \"min\": 1,\n        \"max\": 10,\n        \"num_unique_values\": 4,\n        \"samples\": [\n          10,\n          2,\n          3\n        ],\n        \"semantic_type\": \"\",\n        \"description\": \"\"\n      }\n    },\n    {\n      \"column\": \"summary\",\n      \"properties\": {\n        \"dtype\": \"string\",\n        \"num_unique_values\": 5,\n        \"samples\": [\n          \"Past work in computational sarcasm deals primarily with sarcasm detection. In\\nthis paper, we introduce a novel, related problem: sarcasm target\\nidentification i.e., extracting the target of ridicule in a sarcastic\\nsentence). We present an introductory approach for sarcasm target\\nidentification. Our approach employs two types of extractors: one based on\\nrules, and another consisting of a statistical classifier. To compare our\\napproach, we use two baselines: a na\\\\\\\"ive baseline and another baseline based\\non work in sentiment target identification. We perform our experiments on book\\nsnippets and tweets, and show that our hybrid approach performs better than the\\ntwo baselines and also, in comparison with using the two extractors\\nindividually. Our introductory approach establishes the viability of sarcasm\\ntarget identification, and will serve as a baseline for future work.\",\n          \"Despite increasing attention paid to the need for fast, scalable methods to\\nanalyze next-generation neuroscience data, comparatively little attention has\\nbeen paid to the development of similar methods for behavioral analysis. Just\\nas the volume and complexity of brain data have grown, behavioral paradigms in\\nsystems neuroscience have likewise become more naturalistic and less\\nconstrained, necessitating an increase in the flexibility and scalability of\\nthe models used to study them. In particular, key assumptions made in the\\nanalysis of typical decision paradigms --- optimality; analytic tractability;\\ndiscrete, low-dimensional action spaces --- may be untenable in richer tasks.\\nHere, using the case of a two-player, real-time, continuous strategic game as\\nan example, we show how the use of modern machine learning methods allows us to\\nrelax each of these assumptions. Following an inverse reinforcement learning\\napproach, we are able to succinctly characterize the joint distribution over\\nplayers' actions via a generative model that allows us to simulate realistic\\ngame play. We compare simulated play from a number of generative time series\\nmodels and show that ours successfully resists mode collapse while generating\\ntrajectories with the rich variability of real behavior. Together, these\\nmethods offer a rich class of models for the analysis of continuous action\\ntasks at the single-trial level.\",\n          \"The least absolute shrinkage and selection operator (lasso) and ridge\\nregression produce usually different estimates although input, loss function\\nand parameterization of the penalty are identical. In this paper we look for\\nridge and lasso models with identical solution set.\\n  It turns out, that the lasso model with shrink vector $\\\\lambda$ and a\\nquadratic penalized model with shrink matrix as outer product of $\\\\lambda$ with\\nitself are equivalent, in the sense that they have equal solutions. To achieve\\nthis, we have to restrict the estimates to be positive. This doesn't limit the\\narea of application since we can easily decompose every estimate in a positive\\nand negative part. The resulting problem can be solved with a non negative\\nleast square algorithm.\\n  Beside this quadratic penalized model, an augmented regression model with\\npositive bounded estimates is developed which is also equivalent to the lasso\\nmodel, but is probably faster to solve.\"\n        ],\n        \"semantic_type\": \"\",\n        \"description\": \"\"\n      }\n    },\n    {\n      \"column\": \"tag\",\n      \"properties\": {\n        \"dtype\": \"string\",\n        \"num_unique_values\": 5,\n        \"samples\": [\n          \"[{'term': 'cs.CL', 'scheme': 'http://arxiv.org/schemas/atom', 'label': None}]\",\n          \"[{'term': 'q-bio.NC', 'scheme': 'http://arxiv.org/schemas/atom', 'label': None}, {'term': 'cs.LG', 'scheme': 'http://arxiv.org/schemas/atom', 'label': None}, {'term': 'stat.ML', 'scheme': 'http://arxiv.org/schemas/atom', 'label': None}]\",\n          \"[{'term': 'stat.ML', 'scheme': 'http://arxiv.org/schemas/atom', 'label': None}, {'term': 'cs.LG', 'scheme': 'http://arxiv.org/schemas/atom', 'label': None}, {'term': '62J07 (primary)', 'scheme': 'http://arxiv.org/schemas/atom', 'label': None}]\"\n        ],\n        \"semantic_type\": \"\",\n        \"description\": \"\"\n      }\n    },\n    {\n      \"column\": \"title\",\n      \"properties\": {\n        \"dtype\": \"string\",\n        \"num_unique_values\": 5,\n        \"samples\": [\n          \"Automatic Identification of Sarcasm Target: An Introductory Approach\",\n          \"A Goal-Based Movement Model for Continuous Multi-Agent Tasks\",\n          \"Lasso and equivalent quadratic penalized models\"\n        ],\n        \"semantic_type\": \"\",\n        \"description\": \"\"\n      }\n    },\n    {\n      \"column\": \"year\",\n      \"properties\": {\n        \"dtype\": \"number\",\n        \"std\": 1,\n        \"min\": 2014,\n        \"max\": 2018,\n        \"num_unique_values\": 4,\n        \"samples\": [\n          2016,\n          2018,\n          2017\n        ],\n        \"semantic_type\": \"\",\n        \"description\": \"\"\n      }\n    }\n  ]\n}"
            }
          },
          "metadata": {},
          "execution_count": 2
        }
      ],
      "source": [
        "# Alternative manual download link: https://yadi.sk/d/_nGyU2IajjR9-w\n",
        "!wget \"https://www.dropbox.com/s/99az9n1b57qkd9j/arxivData.json.tar.gz?dl=1\" -O arxivData.json.tar.gz\n",
        "!tar -xvzf arxivData.json.tar.gz\n",
        "data = pd.read_json(\"./arxivData.json\")\n",
        "data.sample(n=5)"
      ]
    },
    {
      "cell_type": "code",
      "execution_count": null,
      "metadata": {
        "cellId": "lbyqb5rx7j8jpo591r06ak",
        "colab": {
          "base_uri": "https://localhost:8080/"
        },
        "id": "Q0lHZ1zZSpqi",
        "outputId": "c314ed1f-96bd-4096-f43d-cd559eb4878d"
      },
      "outputs": [
        {
          "output_type": "execute_result",
          "data": {
            "text/plain": [
              "['Differential Contrastive Divergence ; This paper has been retracted.',\n",
              " 'What Does Artificial Life Tell Us About Death? ; Short philosophical essay',\n",
              " 'P=NP ; We claim to resolve the P=?NP problem via a formal argument for P=NP.']"
            ]
          },
          "metadata": {},
          "execution_count": 3
        }
      ],
      "source": [
        "# assemble lines: concatenate title and description\n",
        "lines = data.apply(lambda row: row['title'] + ' ; ' + row['summary'].replace(\"\\n\", ' '), axis=1).tolist()\n",
        "\n",
        "sorted(lines, key=len)[:3]"
      ]
    },
    {
      "cell_type": "markdown",
      "metadata": {
        "cellId": "7u97m5s8ekl5zd5a43a1yc",
        "id": "ZzRqy12GSpqi"
      },
      "source": [
        "### Tokenization\n",
        "\n",
        "You know the dril. The data is messy. Go clean the data. Use WordPunctTokenizer or something.\n"
      ]
    },
    {
      "cell_type": "code",
      "execution_count": null,
      "metadata": {
        "cellId": "u8rvfk719iek97t3rarwr",
        "id": "4x6Hn5sXSpqj"
      },
      "outputs": [],
      "source": [
        "# Task: convert lines (in-place) into strings of space-separated tokens. Import & use WordPunctTokenizer\n",
        "from nltk.tokenize import WordPunctTokenizer\n",
        "\n",
        "tokenizer = WordPunctTokenizer()\n",
        "\n",
        "for i in range(len(lines)):\n",
        "    lines[i] = ' '.join(tokenizer.tokenize(lines[i])).lower()"
      ]
    },
    {
      "cell_type": "code",
      "execution_count": null,
      "metadata": {
        "cellId": "w88nddpp2k8edoeyyyjh0l",
        "id": "kasqe5UGSpqj"
      },
      "outputs": [],
      "source": [
        "assert sorted(lines, key=len)[0] == \\\n",
        "    'differential contrastive divergence ; this paper has been retracted .'\n",
        "assert sorted(lines, key=len)[2] == \\\n",
        "    'p = np ; we claim to resolve the p =? np problem via a formal argument for p = np .'"
      ]
    },
    {
      "cell_type": "markdown",
      "metadata": {
        "cellId": "qb6h3hxmr095egzv8rlzul",
        "id": "NpAcIq3zSpqj"
      },
      "source": [
        "### N-Gram Language Model (1point)\n",
        "\n",
        "A language model is a probabilistic model that estimates text probability: the joint probability of all tokens $w_t$ in text $X$: $P(X) = P(w_1, \\dots, w_T)$.\n",
        "\n",
        "It can do so by following the chain rule:\n",
        "$$P(w_1, \\dots, w_T) = P(w_1)P(w_2 \\mid w_1)\\dots P(w_T \\mid w_1, \\dots, w_{T-1}).$$\n",
        "\n",
        "The problem with such approach is that the final term $P(w_T \\mid w_1, \\dots, w_{T-1})$ depends on $n-1$ previous words. This probability is impractical to estimate for long texts, e.g. $T = 1000$.\n",
        "\n",
        "One popular approximation is to assume that next word only depends on a finite amount of previous words:\n",
        "\n",
        "$$P(w_t \\mid w_1, \\dots, w_{t - 1}) = P(w_t \\mid w_{t - n + 1}, \\dots, w_{t - 1})$$\n",
        "\n",
        "Such model is called __n-gram language model__ where n is a parameter. For example, in 3-gram language model, each word only depends on 2 previous words.\n",
        "\n",
        "$$\n",
        "    P(w_1, \\dots, w_n) = \\prod_t P(w_t \\mid w_{t - n + 1}, \\dots, w_{t - 1}).\n",
        "$$\n",
        "\n",
        "You can also sometimes see such approximation under the name of _n-th order markov assumption_."
      ]
    },
    {
      "cell_type": "markdown",
      "metadata": {
        "cellId": "u68wydbiioqlp5gl96mhd",
        "id": "i2FSWp-ySpqj"
      },
      "source": [
        "The first stage to building such a model is counting all word occurences given N-1 previous words"
      ]
    },
    {
      "cell_type": "code",
      "execution_count": null,
      "metadata": {
        "cellId": "og84gjipnumsakhiiu9ap",
        "id": "qNyjkWPESpqj"
      },
      "outputs": [],
      "source": [
        "from tqdm import tqdm\n",
        "from collections import defaultdict, Counter\n",
        "\n",
        "# special tokens:\n",
        "# - `UNK` represents absent tokens,\n",
        "# - `EOS` is a special token after the end of sequence\n",
        "\n",
        "UNK, EOS = \"_UNK_\", \"_EOS_\"\n",
        "\n",
        "def count_ngrams(lines, n):\n",
        "    \"\"\"\n",
        "    Count how many times each word occured after (n - 1) previous words\n",
        "    :param lines: an iterable of strings with space-separated tokens\n",
        "    :returns: a dictionary { tuple(prefix_tokens): {next_token_1: count_1, next_token_2: count_2}}\n",
        "\n",
        "    When building counts, please consider the following two edge cases:\n",
        "    - if prefix is shorter than (n - 1) tokens, it should be padded with UNK. For n=3,\n",
        "      empty prefix: \"\" -> (UNK, UNK)\n",
        "      short prefix: \"the\" -> (UNK, the)\n",
        "      long prefix: \"the new approach\" -> (new, approach)\n",
        "    - you should add a special token, EOS, at the end of each sequence\n",
        "      \"... with deep neural networks .\" -> (..., with, deep, neural, networks, ., EOS)\n",
        "      count the probability of this token just like all others.\n",
        "    \"\"\"\n",
        "    counts = defaultdict(Counter)\n",
        "    # counts[(word1, word2)][word3] = how many times word3 occured after (word1, word2)\n",
        "    for line in tqdm(lines):\n",
        "        tokens = line.split() + [EOS]\n",
        "\n",
        "        for i in range(len(tokens)):\n",
        "            prefix = []\n",
        "\n",
        "            for j in range(n - 1):\n",
        "                pos = i - (n - 1) + j\n",
        "                if pos < 0:\n",
        "                    prefix.append(UNK)\n",
        "                else:\n",
        "                    prefix.append(tokens[pos])\n",
        "            prefix = tuple(prefix)\n",
        "            # print(f'Sent: {line} - prefix: {prefix}')\n",
        "\n",
        "            next_token = tokens[i]\n",
        "\n",
        "            counts[prefix][next_token] += 1\n",
        "\n",
        "    return counts\n"
      ]
    },
    {
      "cell_type": "code",
      "execution_count": null,
      "metadata": {
        "cellId": "xyf2he6lak9mmqarl3nck",
        "id": "VSYhjLhxSpqj",
        "colab": {
          "base_uri": "https://localhost:8080/"
        },
        "outputId": "6aee1c3d-6cda-4c6d-c779-3d66297ad566"
      },
      "outputs": [
        {
          "output_type": "stream",
          "name": "stderr",
          "text": [
            "100%|██████████| 100/100 [00:00<00:00, 9971.48it/s]\n"
          ]
        }
      ],
      "source": [
        "# let's test it\n",
        "dummy_lines = sorted(lines, key=len)[:100]\n",
        "dummy_counts = count_ngrams(dummy_lines, n=3)\n",
        "assert set(map(len, dummy_counts.keys())) == {2}, \"please only count {n-1}-grams\"\n",
        "assert len(dummy_counts[('_UNK_', '_UNK_')]) == 78\n",
        "assert dummy_counts['_UNK_', 'a']['note'] == 3\n",
        "assert dummy_counts['p', '=']['np'] == 2\n",
        "assert dummy_counts['author', '.']['_EOS_'] == 1"
      ]
    },
    {
      "cell_type": "markdown",
      "metadata": {
        "cellId": "4j620npeqvj0k8ak8xqx8xk",
        "id": "UjRA_Pj3Spqj"
      },
      "source": [
        "Once we can count N-grams, we can build a probabilistic language model.\n",
        "The simplest way to compute probabilities is in proporiton to counts:\n",
        "\n",
        "$$ P(w_t | prefix) = { Count(prefix, w_t) \\over \\sum_{\\hat w} Count(prefix, \\hat w) } $$"
      ]
    },
    {
      "cell_type": "code",
      "execution_count": null,
      "metadata": {
        "cellId": "c7cm76wmzlaa12bctznzei",
        "id": "7p5zeF18Spqj"
      },
      "outputs": [],
      "source": [
        "class NGramLanguageModel:\n",
        "    def __init__(self, lines, n):\n",
        "        \"\"\"\n",
        "        Train a simple count-based language model:\n",
        "        compute probabilities P(w_t | prefix) given ngram counts\n",
        "\n",
        "        :param n: computes probability of next token given (n - 1) previous words\n",
        "        :param lines: an iterable of strings with space-separated tokens\n",
        "        \"\"\"\n",
        "        assert n >= 1\n",
        "        self.n = n\n",
        "\n",
        "        self.counts = count_ngrams(lines, self.n)\n",
        "\n",
        "        # compute token proabilities given counts\n",
        "        self.probs = defaultdict(Counter)\n",
        "        # probs[(word1, word2)][word3] = P(word3 | word1, word2)\n",
        "\n",
        "        # populate self.probs with actual probabilities\n",
        "        for prefix in self.counts:\n",
        "            total = sum(self.counts[prefix].values())\n",
        "            for word in self.counts[prefix]:\n",
        "                self.probs[prefix][word] =  self.counts[prefix][word] / total\n",
        "\n",
        "\n",
        "\n",
        "    def get_possible_next_tokens(self, prefix):\n",
        "        \"\"\"\n",
        "        :param prefix: string with space-separated prefix tokens\n",
        "        :returns: a dictionary {token : it's probability} for all tokens with positive probabilities\n",
        "        \"\"\"\n",
        "        prefix = prefix.split()\n",
        "        prefix = prefix[max(0, len(prefix) - self.n + 1):]\n",
        "        prefix = [ UNK ] * (self.n - 1 - len(prefix)) + prefix\n",
        "        return self.probs[tuple(prefix)]\n",
        "\n",
        "    def get_next_token_prob(self, prefix, next_token):\n",
        "        \"\"\"\n",
        "        :param prefix: string with space-separated prefix tokens\n",
        "        :param next_token: the next token to predict probability for\n",
        "        :returns: P(next_token|prefix) a single number, 0 <= P <= 1\n",
        "        \"\"\"\n",
        "        return self.get_possible_next_tokens(prefix).get(next_token, 0)"
      ]
    },
    {
      "cell_type": "markdown",
      "metadata": {
        "cellId": "0ftnn4nmuzrup6c0vvhb8q",
        "id": "vXdWbD0kSpqk"
      },
      "source": [
        "Let's test it!"
      ]
    },
    {
      "cell_type": "code",
      "execution_count": null,
      "metadata": {
        "cellId": "a7zajcnvhqupvcrmacvkur",
        "id": "imf-HLHASpqk",
        "colab": {
          "base_uri": "https://localhost:8080/"
        },
        "outputId": "6a6b1a4e-7649-4607-af88-3941810c73e1"
      },
      "outputs": [
        {
          "output_type": "stream",
          "name": "stderr",
          "text": [
            "100%|██████████| 100/100 [00:00<00:00, 10452.31it/s]\n"
          ]
        }
      ],
      "source": [
        "dummy_lm = NGramLanguageModel(dummy_lines, n=3)\n",
        "\n",
        "p_initial = dummy_lm.get_possible_next_tokens('') # '' -> ['_UNK_', '_UNK_']\n",
        "assert np.allclose(p_initial['learning'], 0.02)\n",
        "assert np.allclose(p_initial['a'], 0.13)\n",
        "assert np.allclose(p_initial.get('meow', 0), 0)\n",
        "assert np.allclose(sum(p_initial.values()), 1)\n",
        "\n",
        "p_a = dummy_lm.get_possible_next_tokens('a') # '' -> ['_UNK_', 'a']\n",
        "assert np.allclose(p_a['machine'], 0.15384615)\n",
        "assert np.allclose(p_a['note'], 0.23076923)\n",
        "assert np.allclose(p_a.get('the', 0), 0)\n",
        "assert np.allclose(sum(p_a.values()), 1)\n",
        "\n",
        "assert np.allclose(dummy_lm.get_possible_next_tokens('a note')['on'], 1)\n",
        "assert dummy_lm.get_possible_next_tokens('a machine') == \\\n",
        "    dummy_lm.get_possible_next_tokens(\"there have always been ghosts in a machine\"), \\\n",
        "    \"your 3-gram model should only depend on 2 previous words\""
      ]
    },
    {
      "cell_type": "markdown",
      "metadata": {
        "cellId": "oh8r9a41kuk4r51wra9",
        "id": "2djpTTkJSpqk"
      },
      "source": [
        "Now that you've got a working n-gram language model, let's see what sequences it can generate. But first, let's train it on the whole dataset."
      ]
    },
    {
      "cell_type": "code",
      "execution_count": null,
      "metadata": {
        "cellId": "f17xoejjppmooo2nopw4xo",
        "id": "3G1iUG2VSpqk",
        "colab": {
          "base_uri": "https://localhost:8080/"
        },
        "outputId": "175ffd22-13b6-4534-b7fa-8264f71eb349"
      },
      "outputs": [
        {
          "output_type": "stream",
          "name": "stderr",
          "text": [
            "100%|██████████| 41000/41000 [00:25<00:00, 1580.41it/s]\n"
          ]
        }
      ],
      "source": [
        "lm = NGramLanguageModel(lines, n=3)"
      ]
    },
    {
      "cell_type": "markdown",
      "metadata": {
        "cellId": "2kd9glwnkr470qc4bt7f1e",
        "id": "XdjqBCTaSpqk"
      },
      "source": [
        "The process of generating sequences is... well, it's sequential. You maintain a list of tokens and iteratively add next token by sampling with probabilities.\n",
        "\n",
        "$ X = [] $\n",
        "\n",
        "__forever:__\n",
        "* $w_{next} \\sim P(w_{next} | X)$\n",
        "* $X = concat(X, w_{next})$\n",
        "\n",
        "\n",
        "Instead of sampling with probabilities, one can also try always taking most likely token, sampling among top-K most likely tokens or sampling with temperature. In the latter case (temperature), one samples from\n",
        "\n",
        "$$w_{next} \\sim {P(w_{next} | X) ^ {1 / \\tau} \\over \\sum_{\\hat w} P(\\hat w | X) ^ {1 / \\tau}}$$\n",
        "\n",
        "Where $\\tau > 0$ is model temperature. If $\\tau << 1$, more likely tokens will be sampled with even higher probability while less likely tokens will vanish."
      ]
    },
    {
      "cell_type": "code",
      "source": [
        "possible_tokens = lm.get_possible_next_tokens('a machine')\n",
        "\n",
        "tokens, probs = zip(*possible_tokens.items())\n",
        "print(f'Tokens: {tokens} - probs: {probs}')\n",
        "scaled_probs = np.array(probs) ** (1 / 0.5)\n",
        "print(f'До: {scaled_probs}')\n",
        "scaled_probs /= scaled_probs.sum()\n",
        "print(f'После: {scaled_probs}')\n",
        "random.choices(tokens, weights=scaled_probs, k=1)[0]"
      ],
      "metadata": {
        "colab": {
          "base_uri": "https://localhost:8080/",
          "height": 489
        },
        "id": "aefnCBIlCWkG",
        "outputId": "3f8d32c5-171b-4892-f225-c7302071a2c7"
      },
      "execution_count": null,
      "outputs": [
        {
          "output_type": "stream",
          "name": "stdout",
          "text": [
            "Tokens: (\"'\", 'learning', 'reading', 'that', 'induction', '?', '.', 'to', '-', 'for', 'on', 'translation', ',', 'learner', 'behave', 'and', 'with', 'olfaction', 'models', 'during', 'readable', 'learns', 'translator', 'learned', 'which', 'auxiliary', 'comprehension', 'language', 'processable', 'smart', ':', 'recognition', 'printed', 'vision', 'must', 'capable', ')', 'lies', 'interpretable', 'scheduling', 'across', 'using', 'makes', 'demonstrates', 'or', 'come', 'newly') - probs: (0.0028653295128939827, 0.6045845272206304, 0.014326647564469915, 0.025787965616045846, 0.0028653295128939827, 0.0028653295128939827, 0.017191977077363897, 0.02005730659025788, 0.08022922636103152, 0.008595988538681949, 0.0028653295128939827, 0.06876790830945559, 0.014326647564469915, 0.0057306590257879654, 0.0028653295128939827, 0.0057306590257879654, 0.011461318051575931, 0.0028653295128939827, 0.0028653295128939827, 0.0028653295128939827, 0.008595988538681949, 0.0028653295128939827, 0.0028653295128939827, 0.0028653295128939827, 0.0028653295128939827, 0.0028653295128939827, 0.0028653295128939827, 0.0028653295128939827, 0.0028653295128939827, 0.0028653295128939827, 0.0028653295128939827, 0.0028653295128939827, 0.0028653295128939827, 0.014326647564469915, 0.0028653295128939827, 0.0057306590257879654, 0.0028653295128939827, 0.0028653295128939827, 0.0028653295128939827, 0.0028653295128939827, 0.0028653295128939827, 0.0028653295128939827, 0.0028653295128939827, 0.0028653295128939827, 0.0057306590257879654, 0.0028653295128939827, 0.0028653295128939827)\n",
            "До: [8.21011322e-06 3.65522451e-01 2.05252830e-04 6.65019171e-04\n",
            " 8.21011322e-06 8.21011322e-06 2.95564076e-04 4.02295548e-04\n",
            " 6.43672876e-03 7.38910190e-05 8.21011322e-06 4.72902521e-03\n",
            " 2.05252830e-04 3.28404529e-05 8.21011322e-06 3.28404529e-05\n",
            " 1.31361811e-04 8.21011322e-06 8.21011322e-06 8.21011322e-06\n",
            " 7.38910190e-05 8.21011322e-06 8.21011322e-06 8.21011322e-06\n",
            " 8.21011322e-06 8.21011322e-06 8.21011322e-06 8.21011322e-06\n",
            " 8.21011322e-06 8.21011322e-06 8.21011322e-06 8.21011322e-06\n",
            " 8.21011322e-06 2.05252830e-04 8.21011322e-06 3.28404529e-05\n",
            " 8.21011322e-06 8.21011322e-06 8.21011322e-06 8.21011322e-06\n",
            " 8.21011322e-06 8.21011322e-06 8.21011322e-06 8.21011322e-06\n",
            " 3.28404529e-05 8.21011322e-06 8.21011322e-06]\n",
            "После: [2.16436162e-05 9.63595438e-01 5.41090405e-04 1.75313291e-03\n",
            " 2.16436162e-05 2.16436162e-05 7.79170184e-04 1.06053719e-03\n",
            " 1.69685951e-02 1.94792546e-04 2.16436162e-05 1.24667229e-02\n",
            " 5.41090405e-04 8.65744649e-05 2.16436162e-05 8.65744649e-05\n",
            " 3.46297859e-04 2.16436162e-05 2.16436162e-05 2.16436162e-05\n",
            " 1.94792546e-04 2.16436162e-05 2.16436162e-05 2.16436162e-05\n",
            " 2.16436162e-05 2.16436162e-05 2.16436162e-05 2.16436162e-05\n",
            " 2.16436162e-05 2.16436162e-05 2.16436162e-05 2.16436162e-05\n",
            " 2.16436162e-05 5.41090405e-04 2.16436162e-05 8.65744649e-05\n",
            " 2.16436162e-05 2.16436162e-05 2.16436162e-05 2.16436162e-05\n",
            " 2.16436162e-05 2.16436162e-05 2.16436162e-05 2.16436162e-05\n",
            " 8.65744649e-05 2.16436162e-05 2.16436162e-05]\n"
          ]
        },
        {
          "output_type": "execute_result",
          "data": {
            "text/plain": [
              "'learning'"
            ],
            "application/vnd.google.colaboratory.intrinsic+json": {
              "type": "string"
            }
          },
          "metadata": {},
          "execution_count": 11
        }
      ]
    },
    {
      "cell_type": "code",
      "execution_count": null,
      "metadata": {
        "cellId": "sgbatlm9vzb4z889fho7",
        "id": "2FX_ehWBSpqk"
      },
      "outputs": [],
      "source": [
        "import random\n",
        "def get_next_token(lm, prefix, temperature=1.0):\n",
        "    \"\"\"\n",
        "    return next token after prefix;\n",
        "    :param temperature: samples proportionally to lm probabilities ^ (1 / temperature)\n",
        "        if temperature == 0, always takes most likely token. Break ties arbitrarily.\n",
        "    \"\"\"\n",
        "    possible_tokens = lm.get_possible_next_tokens(prefix)\n",
        "\n",
        "    if temperature == 0:\n",
        "        return max(possible_tokens.items(), key=lambda x: x[1])[0]\n",
        "\n",
        "    tokens, probs = zip(*possible_tokens.items())\n",
        "    scaled_probs = np.array(probs) ** (1 / temperature)\n",
        "    scaled_probs /= scaled_probs.sum()\n",
        "    return random.choices(tokens, weights=scaled_probs, k=1)[0]\n"
      ]
    },
    {
      "cell_type": "code",
      "execution_count": null,
      "metadata": {
        "cellId": "98l40131wjtd5xbdm5b2nr",
        "id": "b1M-oFxWSpqk",
        "colab": {
          "base_uri": "https://localhost:8080/"
        },
        "outputId": "8a17be2c-7701-402a-b427-d824d763c887"
      },
      "outputs": [
        {
          "output_type": "stream",
          "name": "stdout",
          "text": [
            "Looks nice!\n"
          ]
        }
      ],
      "source": [
        "from collections import Counter\n",
        "test_freqs = Counter([get_next_token(lm, 'there have') for _ in range(10000)])\n",
        "assert 250 < test_freqs['not'] < 450\n",
        "assert 8500 < test_freqs['been'] < 9500\n",
        "assert 1 < test_freqs['lately'] < 200\n",
        "\n",
        "test_freqs = Counter([get_next_token(lm, 'deep', temperature=1.0) for _ in range(10000)])\n",
        "assert 1500 < test_freqs['learning'] < 3000\n",
        "test_freqs = Counter([get_next_token(lm, 'deep', temperature=0.5) for _ in range(10000)])\n",
        "assert 8000 < test_freqs['learning'] < 9000\n",
        "test_freqs = Counter([get_next_token(lm, 'deep', temperature=0.0) for _ in range(10000)])\n",
        "assert test_freqs['learning'] == 10000\n",
        "\n",
        "print(\"Looks nice!\")"
      ]
    },
    {
      "cell_type": "markdown",
      "metadata": {
        "cellId": "ux4n8iq523n4s3ftrelhxj",
        "id": "zSvmnE-ySpqk"
      },
      "source": [
        "Let's have fun with this model"
      ]
    },
    {
      "cell_type": "code",
      "execution_count": null,
      "metadata": {
        "cellId": "1nnnycga61rijt6nd8zai",
        "id": "WJKk0_hiSpqk",
        "colab": {
          "base_uri": "https://localhost:8080/"
        },
        "outputId": "b4172722-2c8c-42d5-827f-362e641d6390"
      },
      "outputs": [
        {
          "output_type": "stream",
          "name": "stdout",
          "text": [
            "machine learning model is a new network architecture for accelerating algorithmic training and the network configuration can help us answer the question of the afm method , which does not utilize the block structure which best explains the data from wikidata ; the rise of data grows rapidly , irregularly structured\n"
          ]
        }
      ],
      "source": [
        "prefix = 'machine' # <- your ideas :)\n",
        "\n",
        "for i in range(50):\n",
        "    prefix += ' ' + get_next_token(lm, prefix)\n",
        "    if prefix.endswith(EOS) or len(lm.get_possible_next_tokens(prefix)) == 0:\n",
        "        break\n",
        "\n",
        "print(prefix)"
      ]
    },
    {
      "cell_type": "code",
      "execution_count": null,
      "metadata": {
        "cellId": "pxyjsv3b7r8thdfxlgitl",
        "id": "kbrdYiHKSpqk",
        "colab": {
          "base_uri": "https://localhost:8080/"
        },
        "outputId": "ad802150-c58f-4b58-e54f-cbf6e15325ad"
      },
      "outputs": [
        {
          "output_type": "stream",
          "name": "stdout",
          "text": [
            "bridging the topological properties of the algorithm . _EOS_\n"
          ]
        }
      ],
      "source": [
        "prefix = 'bridging the' # <- more of your ideas\n",
        "\n",
        "for i in range(100):\n",
        "    prefix += ' ' + get_next_token(lm, prefix, temperature=0.5)\n",
        "    if prefix.endswith(EOS) or len(lm.get_possible_next_tokens(prefix)) == 0:\n",
        "        break\n",
        "\n",
        "print(prefix)"
      ]
    },
    {
      "cell_type": "markdown",
      "metadata": {
        "cellId": "2n90bscmzfko0qnctp7ysc",
        "id": "6qm1okWwSpqk"
      },
      "source": [
        "__More in the homework:__ nucleus sampling, top-k sampling, beam search(not for the faint of heart)."
      ]
    },
    {
      "cell_type": "markdown",
      "metadata": {
        "cellId": "3gdmey7g8at5n5c5x4gayh",
        "id": "w2KVuXMbSpql"
      },
      "source": [
        "### Evaluating language models: perplexity (1point)\n",
        "\n",
        "Perplexity is a measure of how well your model approximates the true probability distribution behind the data. __Smaller perplexity = better model__.\n",
        "\n",
        "To compute perplexity on one sentence, use:\n",
        "$$\n",
        "    {\\mathbb{P}}(w_1 \\dots w_N) = P(w_1, \\dots, w_N)^{-\\frac1N} = \\left( \\prod_t P(w_t \\mid w_{t - n}, \\dots, w_{t - 1})\\right)^{-\\frac1N},\n",
        "$$\n",
        "\n",
        "\n",
        "On the corpora level, perplexity is a product of probabilities of all tokens in all sentences to the power of $1/N$, where $N$ is __total length (in tokens) of all sentences__ in corpora.\n",
        "\n",
        "This number can quickly get too small for float32/float64 precision, so we recommend you to first compute log-perplexity (from log-probabilities) and then take the exponent."
      ]
    },
    {
      "cell_type": "code",
      "execution_count": null,
      "metadata": {
        "cellId": "5hp010xyzzb4vqewo1bhny",
        "id": "-CjL8uo2Spql"
      },
      "outputs": [],
      "source": [
        "def perplexity(lm, lines, min_logprob=np.log(10 ** -50.)):\n",
        "    \"\"\"\n",
        "    :param lines: a list of strings with space-separated tokens\n",
        "    :param min_logprob: if log(P(w | ...)) is smaller than min_logprop, set it equal to min_logrob\n",
        "    :returns: corpora-level perplexity - a single scalar number from the formula above\n",
        "\n",
        "    Note: do not forget to compute P(w_first | empty) and P(eos | full_sequence)\n",
        "\n",
        "    PLEASE USE lm.get_next_token_prob and NOT lm.get_possible_next_tokens\n",
        "    \"\"\"\n",
        "    total_logprob = 0.0\n",
        "    total_tokens = 0\n",
        "    n = lm.n\n",
        "\n",
        "    for line in lines:\n",
        "        tokens = line.split()\n",
        "        if not tokens:\n",
        "            continue\n",
        "\n",
        "        first_token = tokens[0]\n",
        "        prob = lm.get_next_token_prob('', first_token)\n",
        "        logprob = np.log(max(prob, np.exp(min_logprob)))\n",
        "        total_logprob += logprob\n",
        "        total_tokens += 1\n",
        "\n",
        "        for i in range(1, len(tokens)):\n",
        "            next_token = tokens[i]\n",
        "            prefix = \" \".join(tokens[max(0, i - lm.n + 1):i])\n",
        "            prob = lm.get_next_token_prob(prefix, next_token)\n",
        "            logprob = np.log(max(prob, np.exp(min_logprob)))\n",
        "            total_logprob += logprob\n",
        "            total_tokens += 1\n",
        "\n",
        "        eos_prefix = ' '.join(tokens[-(n-1):]) if n > 1 else ''\n",
        "        eos_prob = lm.get_next_token_prob(eos_prefix, EOS)\n",
        "        logprob = np.log(max(eos_prob, np.exp(min_logprob)))\n",
        "        total_logprob += logprob\n",
        "        total_tokens += 1\n",
        "\n",
        "    total = total_logprob / total_tokens\n",
        "    return np.exp(-total)"
      ]
    },
    {
      "cell_type": "code",
      "execution_count": null,
      "metadata": {
        "cellId": "8b689bobhkey04x7pabupj",
        "id": "fTLIJjeQSpql",
        "colab": {
          "base_uri": "https://localhost:8080/"
        },
        "outputId": "ff24e89f-9279-45ee-d1ed-2d6ccec16f52"
      },
      "outputs": [
        {
          "output_type": "stream",
          "name": "stderr",
          "text": [
            "100%|██████████| 100/100 [00:00<00:00, 60280.31it/s]\n",
            "100%|██████████| 100/100 [00:00<00:00, 23076.06it/s]\n",
            "100%|██████████| 100/100 [00:00<00:00, 11479.61it/s]"
          ]
        },
        {
          "output_type": "stream",
          "name": "stdout",
          "text": [
            "\n",
            "Perplexities: ppx1=318.213 ppx3=1.520 ppx10=1.184\n"
          ]
        },
        {
          "output_type": "stream",
          "name": "stderr",
          "text": [
            "\n"
          ]
        }
      ],
      "source": [
        "lm1 = NGramLanguageModel(dummy_lines, n=1)\n",
        "lm3 = NGramLanguageModel(dummy_lines, n=3)\n",
        "lm10 = NGramLanguageModel(dummy_lines, n=10)\n",
        "\n",
        "ppx1 = perplexity(lm1, dummy_lines)\n",
        "ppx3 = perplexity(lm3, dummy_lines)\n",
        "ppx10 = perplexity(lm10, dummy_lines)\n",
        "ppx_missing = perplexity(lm3, ['the jabberwock , with eyes of flame , '])  # thanks, L. Carrol\n",
        "\n",
        "print(\"\\nPerplexities: ppx1=%.3f ppx3=%.3f ppx10=%.3f\" % (ppx1, ppx3, ppx10))\n",
        "\n",
        "assert all(0 < ppx < 500 for ppx in (ppx1, ppx3, ppx10)), \"perplexity should be non-negative and reasonably small\"\n",
        "assert ppx1 > ppx3 > ppx10, \"higher N models should overfit and \"\n",
        "assert np.isfinite(ppx_missing) and ppx_missing > 10 ** 6, \"missing words should have large but finite perplexity. \" \\\n",
        "    \" Make sure you use min_logprob right\"\n",
        "assert np.allclose([ppx1, ppx3, ppx10], (318.2132342216302, 1.5199996213739575, 1.1838145037901249))"
      ]
    },
    {
      "cell_type": "markdown",
      "metadata": {
        "cellId": "ypc4lks4vs1li908fqi8",
        "id": "IzSai4GxSpql"
      },
      "source": [
        "Now let's measure the actual perplexity: we'll split the data into train and test and score model on test data only."
      ]
    },
    {
      "cell_type": "code",
      "execution_count": null,
      "metadata": {
        "cellId": "tjnehsem2lmijkg2lto4w",
        "id": "rwjUYfKFSpql",
        "colab": {
          "base_uri": "https://localhost:8080/"
        },
        "outputId": "77fd8a80-a182-4edd-c71a-77a35a1928af"
      },
      "outputs": [
        {
          "output_type": "stream",
          "name": "stderr",
          "text": [
            "100%|██████████| 30750/30750 [00:03<00:00, 9985.01it/s] \n"
          ]
        },
        {
          "output_type": "stream",
          "name": "stdout",
          "text": [
            "N = 1, Perplexity = 1832.23136\n"
          ]
        },
        {
          "output_type": "stream",
          "name": "stderr",
          "text": [
            "100%|██████████| 30750/30750 [00:06<00:00, 4629.63it/s]\n"
          ]
        },
        {
          "output_type": "stream",
          "name": "stdout",
          "text": [
            "N = 2, Perplexity = 85653987.28774\n"
          ]
        },
        {
          "output_type": "stream",
          "name": "stderr",
          "text": [
            "100%|██████████| 30750/30750 [00:13<00:00, 2319.54it/s]\n"
          ]
        },
        {
          "output_type": "stream",
          "name": "stdout",
          "text": [
            "N = 3, Perplexity = 61999196259043346743296.00000\n"
          ]
        }
      ],
      "source": [
        "from sklearn.model_selection import train_test_split\n",
        "train_lines, test_lines = train_test_split(lines, test_size=0.25, random_state=42)\n",
        "\n",
        "for n in (1, 2, 3):\n",
        "    lm = NGramLanguageModel(n=n, lines=train_lines)\n",
        "    ppx = perplexity(lm, test_lines)\n",
        "    print(\"N = %i, Perplexity = %.5f\" % (n, ppx))\n"
      ]
    },
    {
      "cell_type": "code",
      "execution_count": null,
      "metadata": {
        "cellId": "38nfbfkpzgfxik8kccyt1l",
        "id": "oyKXF1QQSpql"
      },
      "outputs": [],
      "source": [
        "# whoops, it just blew up :)"
      ]
    },
    {
      "cell_type": "markdown",
      "metadata": {
        "cellId": "oopn2o57wxm9vbxzycytce",
        "id": "BDd4qTr1Spql"
      },
      "source": [
        "### LM Smoothing\n",
        "\n",
        "The problem with our simple language model is that whenever it encounters an n-gram it has never seen before, it assigns it with the probabilitiy of 0. Every time this happens, perplexity explodes.\n",
        "\n",
        "To battle this issue, there's a technique called __smoothing__. The core idea is to modify counts in a way that prevents probabilities from getting too low. The simplest algorithm here is Additive smoothing (aka [Lapace smoothing](https://en.wikipedia.org/wiki/Additive_smoothing)):\n",
        "\n",
        "$$ P(w_t | prefix) = { Count(prefix, w_t) + \\delta \\over \\sum_{\\hat w} (Count(prefix, \\hat w) + \\delta) } $$\n",
        "\n",
        "If counts for a given prefix are low, additive smoothing will adjust probabilities to a more uniform distribution. Not that the summation in the denominator goes over _all words in the vocabulary_.\n",
        "\n",
        "Here's an example code we've implemented for you:"
      ]
    },
    {
      "cell_type": "code",
      "execution_count": null,
      "metadata": {
        "cellId": "ioh26rlov6g8l2ssj1c8pm",
        "id": "eO7gYIlxSpql"
      },
      "outputs": [],
      "source": [
        "class LaplaceLanguageModel(NGramLanguageModel):\n",
        "    \"\"\" this code is an example, no need to change anything \"\"\"\n",
        "    def __init__(self, lines, n, delta=1.0):\n",
        "        self.n = n\n",
        "        counts = count_ngrams(lines, self.n)\n",
        "        self.vocab = set(token for token_counts in counts.values() for token in token_counts)\n",
        "        self.probs = defaultdict(Counter)\n",
        "\n",
        "        for prefix in counts:\n",
        "            token_counts = counts[prefix]\n",
        "            total_count = sum(token_counts.values()) + delta * len(self.vocab)\n",
        "            self.probs[prefix] = {token: (token_counts[token] + delta) / total_count\n",
        "                                          for token in token_counts}\n",
        "    def get_possible_next_tokens(self, prefix):\n",
        "        token_probs = super().get_possible_next_tokens(prefix)\n",
        "        missing_prob_total = 1.0 - sum(token_probs.values())\n",
        "        missing_prob = missing_prob_total / max(1, len(self.vocab) - len(token_probs))\n",
        "        return {token: token_probs.get(token, missing_prob) for token in self.vocab}\n",
        "\n",
        "    def get_next_token_prob(self, prefix, next_token):\n",
        "        token_probs = super().get_possible_next_tokens(prefix)\n",
        "        if next_token in token_probs:\n",
        "            return token_probs[next_token]\n",
        "        else:\n",
        "            missing_prob_total = 1.0 - sum(token_probs.values())\n",
        "            missing_prob_total = max(0, missing_prob_total) # prevent rounding errors\n",
        "            return missing_prob_total / max(1, len(self.vocab) - len(token_probs))\n"
      ]
    },
    {
      "cell_type": "markdown",
      "metadata": {
        "cellId": "90vsann3920ie05r2blbmi",
        "execution_id": "3868303d-0bb9-42c6-a9a8-dcf485c8220c",
        "id": "PVNZASFxSpql"
      },
      "source": [
        "**Disclaimer**: the implementation above assumes all words unknown within a given context to be equally likely, *as well as the words outside of vocabulary*. Therefore, its' perplexity will be lower than it should when encountering such words. Therefore, comparing it with a model with fewer unknown words will not be fair. When implementing your own smoothing, you may handle this by adding a virtual `UNK` token of non-zero probability. Technically, this will result in a model where probabilities do not add up to $1$, but it is close enough for a practice excercise."
      ]
    },
    {
      "cell_type": "code",
      "execution_count": null,
      "metadata": {
        "cellId": "3xvxkdxcmfqucruyt66mdc",
        "id": "z1XtyMZ_Spqm",
        "colab": {
          "base_uri": "https://localhost:8080/"
        },
        "outputId": "5a42ea6a-ff03-4049-d703-02f3c5e92813"
      },
      "outputs": [
        {
          "output_type": "stream",
          "name": "stderr",
          "text": [
            "100%|██████████| 100/100 [00:00<00:00, 26364.35it/s]\n",
            "100%|██████████| 100/100 [00:00<00:00, 20477.00it/s]\n",
            "100%|██████████| 100/100 [00:00<00:00, 21951.66it/s]\n"
          ]
        }
      ],
      "source": [
        "#test that it's a valid probability model\n",
        "for n in (1, 2, 3):\n",
        "    dummy_lm = LaplaceLanguageModel(dummy_lines, n=n)\n",
        "    assert np.allclose(sum([dummy_lm.get_next_token_prob('a', w_i) for w_i in dummy_lm.vocab]), 1), \"I told you not to break anything! :)\""
      ]
    },
    {
      "cell_type": "code",
      "execution_count": null,
      "metadata": {
        "cellId": "j6zqa50koitjjri9ipd8ec",
        "id": "QiCDG9DGSpqm",
        "colab": {
          "base_uri": "https://localhost:8080/"
        },
        "outputId": "8ae09f95-9470-4ffc-bd47-56f770946270"
      },
      "outputs": [
        {
          "output_type": "stream",
          "name": "stderr",
          "text": [
            "100%|██████████| 30750/30750 [00:04<00:00, 7235.99it/s] \n"
          ]
        },
        {
          "output_type": "stream",
          "name": "stdout",
          "text": [
            "N = 1, Perplexity = 977.67559\n"
          ]
        },
        {
          "output_type": "stream",
          "name": "stderr",
          "text": [
            "100%|██████████| 30750/30750 [00:07<00:00, 4076.49it/s]\n"
          ]
        },
        {
          "output_type": "stream",
          "name": "stdout",
          "text": [
            "N = 2, Perplexity = 470.48021\n"
          ]
        },
        {
          "output_type": "stream",
          "name": "stderr",
          "text": [
            "100%|██████████| 30750/30750 [00:22<00:00, 1397.48it/s]\n"
          ]
        },
        {
          "output_type": "stream",
          "name": "stdout",
          "text": [
            "N = 3, Perplexity = 3679.44765\n"
          ]
        }
      ],
      "source": [
        "for n in (1, 2, 3):\n",
        "    lm = LaplaceLanguageModel(train_lines, n=n, delta=0.1)\n",
        "    ppx = perplexity(lm, test_lines)\n",
        "    print(\"N = %i, Perplexity = %.5f\" % (n, ppx))"
      ]
    },
    {
      "cell_type": "code",
      "execution_count": null,
      "metadata": {
        "cellId": "pjuqt30jcerwbz1ym9zv1",
        "id": "JvjvLIFFSpqm"
      },
      "outputs": [],
      "source": [
        "# optional: try to sample tokens from such a model"
      ]
    },
    {
      "cell_type": "markdown",
      "metadata": {
        "cellId": "3b8s1y9uls4fosu3yp28gg",
        "id": "1VEhirSbSpqm"
      },
      "source": [
        "### Kneser-Ney smoothing (2 points)\n",
        "\n",
        "Additive smoothing is simple, reasonably good but definitely not a State of The Art algorithm.\n",
        "\n",
        "\n",
        "Your final task in this notebook is to implement [Kneser-Ney](https://en.wikipedia.org/wiki/Kneser%E2%80%93Ney_smoothing) smoothing.\n",
        "\n",
        "It can be computed recurrently, for n>1:\n",
        "\n",
        "$$P_{kn}(w_t | prefix_{n-1}) = { \\max(0, Count(prefix_{n-1}, w_t) - \\delta) \\over \\sum_{\\hat w} Count(prefix_{n-1}, \\hat w)} + \\lambda_{prefix_{n-1}} \\cdot P_{kn}(w_t | prefix_{n-2})$$\n",
        "\n",
        "where\n",
        "- $prefix_{n-1}$ is a tuple of {n-1} previous tokens\n",
        "- $lambda_{prefix_{n-1}}$ is a normalization constant chosen so that probabilities add up to 1\n",
        "- Unigram $P_{kn}(w_t | prefix_{n-2})$ corresponds to Kneser Ney smoothing for {N-1}-gram language model.\n",
        "- Unigram $P_{kn}(w_t)$ is a special case: how likely it is to see x_t in an unfamiliar context\n",
        "\n",
        "See lecture slides or wiki for more detailed formulae.\n",
        "\n",
        "__Your task__ is to\n",
        "- implement `KneserNeyLanguageModel` class,\n",
        "- test it on 1-3 gram language models\n",
        "- find optimal (within reason) smoothing delta for 3-gram language model with Kneser-Ney smoothing"
      ]
    },
    {
      "cell_type": "code",
      "execution_count": null,
      "metadata": {
        "cellId": "2ix7kzw02v30oye55322all",
        "id": "GT7Mvzp9Spqm"
      },
      "outputs": [],
      "source": [
        "from collections import defaultdict, Counter\n",
        "from itertools import chain\n",
        "from tqdm import tqdm\n",
        "\n",
        "UNK, EOS = \"_UNK_\", \"_EOS_\"\n",
        "\n",
        "class KneserNeyLanguageModel:\n",
        "    \"\"\" Kneser-Ney language model with interpolation smoothing \"\"\"\n",
        "    def __init__(self, lines, n, delta=0.75):\n",
        "        \"\"\"\n",
        "        :param lines: an iterable of strings with space-separated tokens\n",
        "        :param n: n-gram order\n",
        "        :param delta: discount parameter (typically between 0 and 1)\n",
        "        \"\"\"\n",
        "        self.n = n\n",
        "        self.delta = delta\n",
        "\n",
        "        self.counts = count_ngrams(lines, self.n)\n",
        "        self.vocab = set(token for token_counts in self.counts.values() for token in token_counts)\n",
        "\n",
        "        self.lower_counts = []\n",
        "        for order in range(1, n):\n",
        "            self.lower_counts.append(count_ngrams(lines, order))\n",
        "\n",
        "        self.continuation_counts = defaultdict(Counter)\n",
        "        self.context_counts = defaultdict(int)\n",
        "\n",
        "        for prefix, words in self.counts.items():\n",
        "            for word in words:\n",
        "                self.continuation_counts[prefix[1:]][word] += 1\n",
        "\n",
        "        self.word_context_counts = Counter()\n",
        "        for prefix, words in self.counts.items():\n",
        "            for word in words:\n",
        "                self.word_context_counts[word] += 1\n",
        "\n",
        "        self.total_contexts = sum(len(words) for words in self.counts.values())\n",
        "\n",
        "    def get_possible_next_tokens(self, prefix):\n",
        "        \"\"\"\n",
        "        :param prefix: string with space-separated prefix tokens\n",
        "        :returns: a dictionary {token : its probability} for all tokens with positive probabilities\n",
        "        \"\"\"\n",
        "        prefix_tokens = prefix.split()\n",
        "        prefix_tokens = prefix_tokens[max(0, len(prefix_tokens) - self.n + 1):]\n",
        "        prefix_tokens = [UNK] * (self.n - 1 - len(prefix_tokens)) + prefix_tokens\n",
        "        prefix_tuple = tuple(prefix_tokens)\n",
        "\n",
        "        probs = self._compute_kneser_ney_prob(prefix_tuple)\n",
        "        return dict(probs)\n",
        "\n",
        "    def _compute_kneser_ney_prob(self, prefix):\n",
        "        \"\"\"\n",
        "        Compute Kneser-Ney probability for the given prefix\n",
        "        \"\"\"\n",
        "        if len(prefix) == 0:\n",
        "            total = sum(self.word_context_counts.values())\n",
        "            probs = Counter()\n",
        "            for word, count in self.word_context_counts.items():\n",
        "                probs[word] = count / total\n",
        "            return probs\n",
        "\n",
        "        current_counts = self.counts.get(prefix, Counter())\n",
        "        total_current = sum(current_counts.values())\n",
        "\n",
        "        if total_current == 0:\n",
        "            return self._compute_kneser_ney_prob(prefix[1:])\n",
        "\n",
        "        probs = Counter()\n",
        "        lambda_prefix = (self.delta * len(current_counts)) / total_current\n",
        "\n",
        "        for word, count in current_counts.items():\n",
        "            discounted = max(count - self.delta, 0) / total_current\n",
        "            probs[word] = discounted\n",
        "\n",
        "        lower_probs = self._compute_kneser_ney_prob(prefix[1:])\n",
        "        for word, prob in lower_probs.items():\n",
        "            probs[word] += lambda_prefix * prob\n",
        "\n",
        "        return probs\n",
        "\n",
        "    def get_next_token_prob(self, prefix, next_token):\n",
        "        \"\"\"\n",
        "        :param prefix: string with space-separated prefix tokens\n",
        "        :param next_token: the next token to predict probability for\n",
        "        :returns: P(next_token|prefix) a single number, 0 <= P <= 1\n",
        "        \"\"\"\n",
        "        return self.get_possible_next_tokens(prefix).get(next_token, 0)"
      ]
    },
    {
      "cell_type": "code",
      "execution_count": null,
      "metadata": {
        "cellId": "lsk91832qbmdt7x1q0a8z4",
        "id": "P8GSpKHVSpqm",
        "colab": {
          "base_uri": "https://localhost:8080/"
        },
        "outputId": "c9ae5f71-52e3-4447-bc74-1460aa8ee44b"
      },
      "outputs": [
        {
          "output_type": "stream",
          "name": "stderr",
          "text": [
            "100%|██████████| 100/100 [00:00<00:00, 37101.32it/s]\n",
            "100%|██████████| 100/100 [00:00<00:00, 21707.40it/s]\n",
            "100%|██████████| 100/100 [00:00<00:00, 35578.12it/s]\n",
            "100%|██████████| 100/100 [00:00<00:00, 17173.58it/s]\n",
            "100%|██████████| 100/100 [00:00<00:00, 38157.79it/s]\n",
            "100%|██████████| 100/100 [00:00<00:00, 24797.82it/s]\n"
          ]
        }
      ],
      "source": [
        "#test that it's a valid probability model\n",
        "for n in (1, 2, 3):\n",
        "    dummy_lm = KneserNeyLanguageModel(dummy_lines, n=n)\n",
        "    assert np.allclose(sum([dummy_lm.get_next_token_prob('a', w_i) for w_i in dummy_lm.vocab]), 1), \"I told you not to break anything! :)\""
      ]
    },
    {
      "cell_type": "code",
      "execution_count": null,
      "metadata": {
        "cellId": "pp3jtkk9annp1qkou58x1b",
        "id": "CWq4NwEsSpqw",
        "colab": {
          "base_uri": "https://localhost:8080/"
        },
        "outputId": "b693dd57-5fb7-4ed1-e2d6-e7a74199d782"
      },
      "outputs": [
        {
          "metadata": {
            "tags": null
          },
          "name": "stderr",
          "output_type": "stream",
          "text": [
            "100%|██████████| 30750/30750 [00:04<00:00, 7308.25it/s]\n"
          ]
        }
      ],
      "source": [
        "for n in (1, 2, 3):\n",
        "    lm = KneserNeyLanguageModel(train_lines, n=n, delta=1)\n",
        "    ppx = perplexity(lm, test_lines)\n",
        "    print(\"N = %i, Perplexity = %.5f\" % (n, ppx))"
      ]
    }
  ],
  "metadata": {
    "kernelspec": {
      "display_name": "Python 3 (ipykernel)",
      "language": "python",
      "name": "python3"
    },
    "language_info": {
      "codemirror_mode": {
        "name": "ipython",
        "version": 3
      },
      "file_extension": ".py",
      "mimetype": "text/x-python",
      "name": "python",
      "nbconvert_exporter": "python",
      "pygments_lexer": "ipython3",
      "version": "3.11.0"
    },
    "notebookId": "53997d2d-afb8-4477-8874-b6d46299f06c",
    "notebookPath": "seminar.ipynb",
    "colab": {
      "provenance": []
    }
  },
  "nbformat": 4,
  "nbformat_minor": 0
}